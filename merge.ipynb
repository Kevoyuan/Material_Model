{
 "cells": [
  {
   "cell_type": "code",
   "execution_count": null,
   "metadata": {},
   "outputs": [],
   "source": [
    "import glob  # used to extract file paths that match specific                pattern\n",
    "import os  # provides functions necessary to interact with os\n",
    "import pathlib\n",
    "import re  # regular expression package\n",
    "\n",
    "import pandas as pd"
   ]
  },
  {
   "cell_type": "code",
   "execution_count": null,
   "metadata": {},
   "outputs": [],
   "source": [
    "\n",
    "\n",
    "# read the path\n",
    "file_path = \".\"\n",
    "# list all the files from the directory\n",
    "\n",
    "sub_folders = [\n",
    "    name\n",
    "    for name in os.listdir(file_path)\n",
    "    if os.path.isdir(os.path.join(file_path, name))\n",
    "]\n",
    "\n",
    "remove_list = [\n",
    "    \".git\",\n",
    "    \".vscode\",\n",
    "    \"Archive\",\n",
    "    \"Model_template\",\n",
    "    \"Surface Model\",\n",
    "    \"__pycache__\",\n",
    "    \"a60\",\n",
    "    \"a65\",\n",
    "    \"angle\",\n",
    "    \"test_model\",\n",
    "]\n",
    "sub_folders = [ele for ele in sub_folders if ele not in remove_list]\n",
    "print(sub_folders)\n",
    "df_append = pd.DataFrame()\n",
    "for i in sub_folders:\n",
    "    dir = str(file_path + \"/\" + str(i))\n",
    "\n",
    "    all_filenames = f\"{dir}/test.csv\"\n",
    "\n",
    "    print(all_filenames)\n",
    "    df_temp = pd.read_csv(all_filenames, index_col=None)\n",
    "    df_append = df_append.append(df_temp, ignore_index=True)\n",
    "df_append.head()\n",
    "\n",
    "df_append.to_csv(f\"{file_path}/test.csv\")"
   ]
  }
 ],
 "metadata": {
  "kernelspec": {
   "display_name": "MA",
   "language": "python",
   "name": "python3"
  },
  "language_info": {
   "codemirror_mode": {
    "name": "ipython",
    "version": 3
   },
   "file_extension": ".py",
   "mimetype": "text/x-python",
   "name": "python",
   "nbconvert_exporter": "python",
   "pygments_lexer": "ipython3",
   "version": "3.10.4 (main, Mar 31 2022, 03:38:35) [Clang 12.0.0 ]"
  },
  "orig_nbformat": 4,
  "vscode": {
   "interpreter": {
    "hash": "dbea13c496c144cd6d9c63868d562f0ae44c61e7cb757603faf477c15d2860c7"
   }
  }
 },
 "nbformat": 4,
 "nbformat_minor": 2
}
