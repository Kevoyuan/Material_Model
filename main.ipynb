{
 "cells": [
  {
   "cell_type": "code",
   "execution_count": null,
   "metadata": {},
   "outputs": [],
   "source": [
    "from importlib.resources import path\n",
    "import Energy\n",
    "import XDisplacement\n",
    "import YDisplacement\n",
    "import YForce\n",
    "import Thickness_Reduction\n",
    "import read_max\n",
    "\n",
    "mainpath = \".\"\n",
    "\n",
    "model_name = \"notch_a60deg_l25deg_d3_x8.0\"\n",
    "\n",
    "path = mainpath + \"/\" + model_name\n"
   ]
  },
  {
   "cell_type": "code",
   "execution_count": null,
   "metadata": {},
   "outputs": [],
   "source": [
    "# read_max.read_thickness(path + \"/\" + \"%ThicknessReduction.csv\", \"Thickness Reduction\",\n",
    "#                         path + \"/\" + \"maxStrain.csv\", \"max. Strain\", model_name)\n"
   ]
  },
  {
   "cell_type": "code",
   "execution_count": null,
   "metadata": {},
   "outputs": [],
   "source": [
    "# Energy.energy(path + \"/\" + \"Energy.csv\", path)\n"
   ]
  },
  {
   "cell_type": "code",
   "execution_count": null,
   "metadata": {},
   "outputs": [],
   "source": [
    "\n",
    "# XDisplacement.xdisplacement(path + \"/\" + \"X-displacement.csv\", path)\n"
   ]
  },
  {
   "cell_type": "code",
   "execution_count": null,
   "metadata": {},
   "outputs": [],
   "source": [
    "\n",
    "YDisplacement.ydisplacement(path + \"/\" + \"Y-displacement.csv\")\n"
   ]
  },
  {
   "cell_type": "code",
   "execution_count": null,
   "metadata": {},
   "outputs": [],
   "source": [
    "\n",
    "# YForce.yforce(path + \"/\" + \"Y-Force.csv\", path)\n"
   ]
  }
 ],
 "metadata": {
  "kernelspec": {
   "display_name": "Python 3.9.4 64-bit",
   "language": "python",
   "name": "python3"
  },
  "language_info": {
   "codemirror_mode": {
    "name": "ipython",
    "version": 3
   },
   "file_extension": ".py",
   "mimetype": "text/x-python",
   "name": "python",
   "nbconvert_exporter": "python",
   "pygments_lexer": "ipython3",
   "version": "3.9.4"
  },
  "orig_nbformat": 4,
  "vscode": {
   "interpreter": {
    "hash": "aee8b7b246df8f9039afb4144a1f6fd8d2ca17a180786b69acc140d282b71a49"
   }
  }
 },
 "nbformat": 4,
 "nbformat_minor": 2
}
